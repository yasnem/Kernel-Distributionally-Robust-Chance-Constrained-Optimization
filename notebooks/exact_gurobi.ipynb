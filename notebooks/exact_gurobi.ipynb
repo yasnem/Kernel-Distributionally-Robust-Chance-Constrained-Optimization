{
 "cells": [
  {
   "cell_type": "code",
   "execution_count": 1,
   "id": "0e091424",
   "metadata": {},
   "outputs": [],
   "source": [
    "import numpy as np\n",
    "from sklearn.metrics.pairwise import pairwise_kernels, check_pairwise_arrays\n",
    "from sklearn.metrics.pairwise import rbf_kernel as sklearn_kernel\n",
    "from scipy.stats import norm, uniform\n",
    "import gurobipy as gp\n",
    "from gurobipy import GRB\n",
    "from rkhs_utils.utils import rkhs_norm_squared, rkhs_func_exp, rkhs_func, mmd_eps, median_heuristic, compute_scenarionumber, rbf_kernel\n",
    "np.set_printoptions(suppress=True)"
   ]
  },
  {
   "cell_type": "code",
   "execution_count": 2,
   "id": "4d589a07",
   "metadata": {},
   "outputs": [],
   "source": [
    "# Define constraint function\n",
    "\n",
    "def f_constraint(x, X):\n",
    "    \"\"\"\n",
    "    Constraint function\n",
    "    \n",
    "    x: cp.Variable -- decision variable (dim,)\n",
    "    X: ndarray -- Samples (n_samples, dim)\n",
    "    \"\"\"\n",
    "#     f = cp.exp(0.1 * (x[0, :] + X[:,0])) + x[1, :] + X[:, 1] -10\n",
    "    \n",
    "    f = -X @ x +1\n",
    "\n",
    "    return f"
   ]
  },
  {
   "cell_type": "code",
   "execution_count": 3,
   "id": "2244efce",
   "metadata": {},
   "outputs": [
    {
     "name": "stdout",
     "output_type": "stream",
     "text": [
      "1.090273278057828 0.27499275746039265\n",
      "11.154352350627445\n"
     ]
    }
   ],
   "source": [
    "##### Sample/set problem constants\n",
    "# Define constants and sample scenarios\n",
    "# np.random.seed(1)\n",
    "dim = 2\n",
    "n_samples = 10\n",
    "c = np.random.randint(1, 100, size=dim)\n",
    "# X = uniform.rvs(loc=0.8, scale=1.5, size=(n_samples, dim))\n",
    "X = norm.rvs(loc=1.15, scale=0.2, size=(n_samples, dim))\n",
    "sigma, _ = median_heuristic(X, X)\n",
    "M = 100000\n",
    "alpha = 0.05\n",
    "epsilon = mmd_eps(n_samples, alpha=alpha)\n",
    "print(epsilon, sigma)\n",
    "print(compute_scenarionumber(0.01, dim, alpha))"
   ]
  },
  {
   "cell_type": "code",
   "execution_count": 4,
   "id": "e20b1810",
   "metadata": {},
   "outputs": [
    {
     "data": {
      "text/plain": [
       "array([[1.        , 0.53151412, 0.62528051, 0.35999541, 0.19938271,\n",
       "        0.74866369, 0.62839843, 0.50334116, 0.35846293, 0.67950991],\n",
       "       [0.53151412, 1.        , 0.26278169, 0.03992274, 0.19209582,\n",
       "        0.93090769, 0.1138127 , 0.12617406, 0.13094587, 0.17117288],\n",
       "       [0.62528051, 0.26278169, 1.        , 0.40652767, 0.5663157 ,\n",
       "        0.36830119, 0.43225644, 0.89965398, 0.89801573, 0.28302391],\n",
       "       [0.35999541, 0.03992274, 0.40652767, 1.        , 0.05915412,\n",
       "        0.09142467, 0.82979915, 0.62417168, 0.31946907, 0.51431725],\n",
       "       [0.19938271, 0.19209582, 0.5663157 , 0.05915412, 1.        ,\n",
       "        0.19192262, 0.062447  , 0.36745817, 0.65427574, 0.03548446],\n",
       "       [0.74866369, 0.93090769, 0.36830119, 0.09142467, 0.19192262,\n",
       "        1.        , 0.23030934, 0.20917108, 0.18486117, 0.32367482],\n",
       "       [0.62839843, 0.1138127 , 0.43225644, 0.82979915, 0.062447  ,\n",
       "        0.23030934, 1.        , 0.53937557, 0.26576914, 0.85955098],\n",
       "       [0.50334116, 0.12617406, 0.89965398, 0.62417168, 0.36745817,\n",
       "        0.20917108, 0.53937557, 1.        , 0.86170074, 0.30630746],\n",
       "       [0.35846293, 0.13094587, 0.89801573, 0.31946907, 0.65427574,\n",
       "        0.18486117, 0.26576914, 0.86170074, 1.        , 0.1362708 ],\n",
       "       [0.67950991, 0.17117288, 0.28302391, 0.51431725, 0.03548446,\n",
       "        0.32367482, 0.85955098, 0.30630746, 0.1362708 , 1.        ]])"
      ]
     },
     "execution_count": 4,
     "metadata": {},
     "output_type": "execute_result"
    }
   ],
   "source": [
    "rbf_kernel(X, X, sigma=sigma)"
   ]
  },
  {
   "cell_type": "markdown",
   "id": "4adca64c",
   "metadata": {},
   "source": [
    "## Exact reformulation solving with GUROBI"
   ]
  },
  {
   "cell_type": "code",
   "execution_count": 5,
   "id": "c1fc084d",
   "metadata": {},
   "outputs": [],
   "source": [
    "def exact_reformulation(X, c, alpha, epsilon, M, sigma):\n",
    "    n_samples, dim = X.shape\n",
    "#     supp = np.linspace(np.min(X)-0.2, np.max(X)+0.2, 30)\n",
    "#     xx, yy = np.meshgrid(supp, supp)\n",
    "#     supp_points = np.array((xx.ravel(), yy.ravel())).T\n",
    "#     supp_points = np.vstack((supp_points, X))\n",
    "    supp_points = X\n",
    "    with gp.Env(empty=True) as env:\n",
    "        env.setParam('OutputFlag', 0)\n",
    "        env.start()\n",
    "        with gp.Model(env=env) as model:\n",
    "    #     model = gp.Model('drccp')\n",
    "            x = model.addMVar(dim, name='x')\n",
    "            w = model.addMVar(n_samples, name='weights')\n",
    "            f0 = model.addMVar(1, name='f0')\n",
    "            mu = model.addMVar((2, supp_points.shape[0]), vtype=GRB.BINARY, name='switch')\n",
    "            t = model.addMVar(1, name='slack')\n",
    "            s = model.addMVar(1, lb=0.01, name='rkhs_lb')\n",
    "\n",
    "            # Set objective\n",
    "            model.setObjective(c @ x, GRB.MINIMIZE)\n",
    "            model.params.NonConvex = 2\n",
    "\n",
    "            model.addConstr(f_constraint(x, supp_points) <= (1-mu[1, :])*M)\n",
    "            model.addConstr(f_constraint(x, supp_points) >= -(1-mu[0, :])*M)\n",
    "            model.addConstr(rkhs_func(f0, w, X, supp_points, sigma=sigma) >= mu[0, :])\n",
    "            model.addConstr(rkhs_func_exp(f0, w, X, sigma=sigma) + epsilon * t <= alpha)\n",
    "            model.addConstr(rkhs_norm_squared(w, X, sigma=sigma) <= t@t)\n",
    "            model.addConstr(t >= 0)\n",
    "\n",
    "            ones = np.ones(n_samples)\n",
    "            model.addConstr(w @ ones >= s)\n",
    "            \n",
    "            ones = np.ones(2)\n",
    "            for i in range(supp_points.shape[0]):\n",
    "                model.addConstr(mu[:, i] @ ones == 1)\n",
    "\n",
    "            model.optimize()\n",
    "\n",
    "            for v in model.getVars():\n",
    "                print('%s %g' % (v.varName, v.x))\n",
    "            decision_variable = (np.eye(x.shape[0]) @ x).getValue()\n",
    "            print(\"Decision var: \", decision_variable)\n",
    "            print(\"Constraint: \", f_constraint(x, X).getValue())\n",
    "            print(\"RKHS function: \", rkhs_func(w, X, X, sigma=sigma).getValue())\n",
    "            print(\"RKHS function exp: \", rkhs_func_exp(w, X, sigma=sigma).getValue())\n",
    "            print(\"RKHS norm: \", np.sqrt(rkhs_norm_squared(w, X, sigma=sigma).getValue()))\n",
    "            print('Obj: %g' % model.objVal)\n",
    "            return decision_variable"
   ]
  },
  {
   "cell_type": "code",
   "execution_count": 6,
   "id": "c269abbc",
   "metadata": {},
   "outputs": [],
   "source": [
    "def scenario_solution(X, c, sigma):\n",
    "    n_samples, dim = X.shape\n",
    "    with gp.Env(empty=True) as env:\n",
    "        env.setParam('OutputFlag', 0)\n",
    "        env.start()\n",
    "        with gp.Model(env=env) as scenario_model:\n",
    "            x = scenario_model.addMVar(dim, name='x')\n",
    "\n",
    "            # Set objective\n",
    "            scenario_model.setObjective(c @ x, GRB.MINIMIZE)\n",
    "            scenario_model.params.NonConvex = 2\n",
    "\n",
    "            scenario_model.addConstr(f_constraint(x, X) <= 0)\n",
    "\n",
    "            scenario_model.optimize()\n",
    "            decision_variable = (np.eye(x.shape[0]) @ x).getValue()\n",
    "            print(\"Decision var: \", decision_variable)\n",
    "            print(\"Constraint: \", f_constraint(x, X).getValue())\n",
    "            print('Obj: %g' % scenario_model.objVal)\n",
    "            return decision_variable"
   ]
  },
  {
   "cell_type": "code",
   "execution_count": 7,
   "id": "10ebbb9e",
   "metadata": {},
   "outputs": [
    {
     "name": "stdout",
     "output_type": "stream",
     "text": [
      "EPS:  0\n",
      "Exact solution:\n",
      "(10,) (1,)\n"
     ]
    },
    {
     "ename": "GurobiError",
     "evalue": "Incompatible vector length",
     "output_type": "error",
     "traceback": [
      "\u001b[0;31m---------------------------------------------------------------------------\u001b[0m",
      "\u001b[0;31mGurobiError\u001b[0m                               Traceback (most recent call last)",
      "\u001b[0;32m<ipython-input-7-4445f7a7dd9d>\u001b[0m in \u001b[0;36m<module>\u001b[0;34m\u001b[0m\n\u001b[1;32m      2\u001b[0m     \u001b[0mprint\u001b[0m\u001b[0;34m(\u001b[0m\u001b[0;34m\"EPS: \"\u001b[0m\u001b[0;34m,\u001b[0m \u001b[0meps\u001b[0m\u001b[0;34m)\u001b[0m\u001b[0;34m\u001b[0m\u001b[0;34m\u001b[0m\u001b[0m\n\u001b[1;32m      3\u001b[0m     \u001b[0mprint\u001b[0m\u001b[0;34m(\u001b[0m\u001b[0;34m\"Exact solution:\"\u001b[0m\u001b[0;34m)\u001b[0m\u001b[0;34m\u001b[0m\u001b[0;34m\u001b[0m\u001b[0m\n\u001b[0;32m----> 4\u001b[0;31m     \u001b[0mx_exact\u001b[0m \u001b[0;34m=\u001b[0m \u001b[0mexact_reformulation\u001b[0m\u001b[0;34m(\u001b[0m\u001b[0mX\u001b[0m\u001b[0;34m,\u001b[0m \u001b[0mc\u001b[0m\u001b[0;34m,\u001b[0m \u001b[0malpha\u001b[0m\u001b[0;34m,\u001b[0m \u001b[0meps\u001b[0m\u001b[0;34m,\u001b[0m \u001b[0mM\u001b[0m\u001b[0;34m,\u001b[0m \u001b[0msigma\u001b[0m\u001b[0;34m)\u001b[0m\u001b[0;34m\u001b[0m\u001b[0;34m\u001b[0m\u001b[0m\n\u001b[0m\u001b[1;32m      5\u001b[0m     \u001b[0mprint\u001b[0m\u001b[0;34m(\u001b[0m\u001b[0;34m\"Scenario solution\"\u001b[0m\u001b[0;34m)\u001b[0m\u001b[0;34m\u001b[0m\u001b[0;34m\u001b[0m\u001b[0m\n\u001b[1;32m      6\u001b[0m     \u001b[0mx_scen\u001b[0m \u001b[0;34m=\u001b[0m \u001b[0mscenario_solution\u001b[0m\u001b[0;34m(\u001b[0m\u001b[0mX\u001b[0m\u001b[0;34m,\u001b[0m \u001b[0mc\u001b[0m\u001b[0;34m,\u001b[0m \u001b[0msigma\u001b[0m\u001b[0;34m)\u001b[0m\u001b[0;34m\u001b[0m\u001b[0;34m\u001b[0m\u001b[0m\n",
      "\u001b[0;32m<ipython-input-5-4ce9d2ac042f>\u001b[0m in \u001b[0;36mexact_reformulation\u001b[0;34m(X, c, alpha, epsilon, M, sigma)\u001b[0m\n\u001b[1;32m     24\u001b[0m             \u001b[0mmodel\u001b[0m\u001b[0;34m.\u001b[0m\u001b[0maddConstr\u001b[0m\u001b[0;34m(\u001b[0m\u001b[0mf_constraint\u001b[0m\u001b[0;34m(\u001b[0m\u001b[0mx\u001b[0m\u001b[0;34m,\u001b[0m \u001b[0msupp_points\u001b[0m\u001b[0;34m)\u001b[0m \u001b[0;34m<=\u001b[0m \u001b[0;34m(\u001b[0m\u001b[0;36m1\u001b[0m\u001b[0;34m-\u001b[0m\u001b[0mmu\u001b[0m\u001b[0;34m[\u001b[0m\u001b[0;36m1\u001b[0m\u001b[0;34m,\u001b[0m \u001b[0;34m:\u001b[0m\u001b[0;34m]\u001b[0m\u001b[0;34m)\u001b[0m\u001b[0;34m*\u001b[0m\u001b[0mM\u001b[0m\u001b[0;34m)\u001b[0m\u001b[0;34m\u001b[0m\u001b[0;34m\u001b[0m\u001b[0m\n\u001b[1;32m     25\u001b[0m             \u001b[0mmodel\u001b[0m\u001b[0;34m.\u001b[0m\u001b[0maddConstr\u001b[0m\u001b[0;34m(\u001b[0m\u001b[0mf_constraint\u001b[0m\u001b[0;34m(\u001b[0m\u001b[0mx\u001b[0m\u001b[0;34m,\u001b[0m \u001b[0msupp_points\u001b[0m\u001b[0;34m)\u001b[0m \u001b[0;34m>=\u001b[0m \u001b[0;34m-\u001b[0m\u001b[0;34m(\u001b[0m\u001b[0;36m1\u001b[0m\u001b[0;34m-\u001b[0m\u001b[0mmu\u001b[0m\u001b[0;34m[\u001b[0m\u001b[0;36m0\u001b[0m\u001b[0;34m,\u001b[0m \u001b[0;34m:\u001b[0m\u001b[0;34m]\u001b[0m\u001b[0;34m)\u001b[0m\u001b[0;34m*\u001b[0m\u001b[0mM\u001b[0m\u001b[0;34m)\u001b[0m\u001b[0;34m\u001b[0m\u001b[0;34m\u001b[0m\u001b[0m\n\u001b[0;32m---> 26\u001b[0;31m             \u001b[0mmodel\u001b[0m\u001b[0;34m.\u001b[0m\u001b[0maddConstr\u001b[0m\u001b[0;34m(\u001b[0m\u001b[0mrkhs_func\u001b[0m\u001b[0;34m(\u001b[0m\u001b[0mf0\u001b[0m\u001b[0;34m,\u001b[0m \u001b[0mw\u001b[0m\u001b[0;34m,\u001b[0m \u001b[0mX\u001b[0m\u001b[0;34m,\u001b[0m \u001b[0msupp_points\u001b[0m\u001b[0;34m,\u001b[0m \u001b[0msigma\u001b[0m\u001b[0;34m=\u001b[0m\u001b[0msigma\u001b[0m\u001b[0;34m)\u001b[0m \u001b[0;34m>=\u001b[0m \u001b[0mmu\u001b[0m\u001b[0;34m[\u001b[0m\u001b[0;36m0\u001b[0m\u001b[0;34m,\u001b[0m \u001b[0;34m:\u001b[0m\u001b[0;34m]\u001b[0m\u001b[0;34m)\u001b[0m\u001b[0;34m\u001b[0m\u001b[0;34m\u001b[0m\u001b[0m\n\u001b[0m\u001b[1;32m     27\u001b[0m             \u001b[0mmodel\u001b[0m\u001b[0;34m.\u001b[0m\u001b[0maddConstr\u001b[0m\u001b[0;34m(\u001b[0m\u001b[0mrkhs_func_exp\u001b[0m\u001b[0;34m(\u001b[0m\u001b[0mf0\u001b[0m\u001b[0;34m,\u001b[0m \u001b[0mw\u001b[0m\u001b[0;34m,\u001b[0m \u001b[0mX\u001b[0m\u001b[0;34m,\u001b[0m \u001b[0msigma\u001b[0m\u001b[0;34m=\u001b[0m\u001b[0msigma\u001b[0m\u001b[0;34m)\u001b[0m \u001b[0;34m+\u001b[0m \u001b[0mepsilon\u001b[0m \u001b[0;34m*\u001b[0m \u001b[0mt\u001b[0m \u001b[0;34m<=\u001b[0m \u001b[0malpha\u001b[0m\u001b[0;34m)\u001b[0m\u001b[0;34m\u001b[0m\u001b[0;34m\u001b[0m\u001b[0m\n\u001b[1;32m     28\u001b[0m             \u001b[0mmodel\u001b[0m\u001b[0;34m.\u001b[0m\u001b[0maddConstr\u001b[0m\u001b[0;34m(\u001b[0m\u001b[0mrkhs_norm_squared\u001b[0m\u001b[0;34m(\u001b[0m\u001b[0mw\u001b[0m\u001b[0;34m,\u001b[0m \u001b[0mX\u001b[0m\u001b[0;34m,\u001b[0m \u001b[0msigma\u001b[0m\u001b[0;34m=\u001b[0m\u001b[0msigma\u001b[0m\u001b[0;34m)\u001b[0m \u001b[0;34m<=\u001b[0m \u001b[0mt\u001b[0m\u001b[0;34m@\u001b[0m\u001b[0mt\u001b[0m\u001b[0;34m)\u001b[0m\u001b[0;34m\u001b[0m\u001b[0;34m\u001b[0m\u001b[0m\n",
      "\u001b[0;32m~/ws_yassine/mpc_ws/new_project/kernel-dr-mpc/src/rkhs_utils/utils.py\u001b[0m in \u001b[0;36mrkhs_func\u001b[0;34m(f0, w, X, x, **param)\u001b[0m\n\u001b[1;32m     56\u001b[0m     \u001b[0mf\u001b[0m \u001b[0;34m=\u001b[0m \u001b[0mK\u001b[0m\u001b[0;34m.\u001b[0m\u001b[0mT\u001b[0m \u001b[0;34m@\u001b[0m \u001b[0mw\u001b[0m\u001b[0;34m\u001b[0m\u001b[0;34m\u001b[0m\u001b[0m\n\u001b[1;32m     57\u001b[0m     \u001b[0mprint\u001b[0m\u001b[0;34m(\u001b[0m\u001b[0mf\u001b[0m\u001b[0;34m.\u001b[0m\u001b[0mshape\u001b[0m\u001b[0;34m,\u001b[0m \u001b[0mf0\u001b[0m\u001b[0;34m.\u001b[0m\u001b[0mshape\u001b[0m\u001b[0;34m)\u001b[0m\u001b[0;34m\u001b[0m\u001b[0;34m\u001b[0m\u001b[0m\n\u001b[0;32m---> 58\u001b[0;31m     \u001b[0;32mreturn\u001b[0m \u001b[0mf\u001b[0m \u001b[0;34m+\u001b[0m \u001b[0mf0\u001b[0m \u001b[0;34m@\u001b[0m \u001b[0mnp\u001b[0m\u001b[0;34m.\u001b[0m\u001b[0mones\u001b[0m\u001b[0;34m(\u001b[0m\u001b[0mf\u001b[0m\u001b[0;34m.\u001b[0m\u001b[0mshape\u001b[0m\u001b[0;34m[\u001b[0m\u001b[0;36m0\u001b[0m\u001b[0;34m]\u001b[0m\u001b[0;34m)\u001b[0m\u001b[0;34m\u001b[0m\u001b[0;34m\u001b[0m\u001b[0m\n\u001b[0m\u001b[1;32m     59\u001b[0m \u001b[0;34m\u001b[0m\u001b[0m\n\u001b[1;32m     60\u001b[0m \u001b[0;34m\u001b[0m\u001b[0m\n",
      "\u001b[0;32msrc/gurobipy/mvar.pxi\u001b[0m in \u001b[0;36mgurobipy.MVar.__matmul__\u001b[0;34m()\u001b[0m\n",
      "\u001b[0;32msrc/gurobipy/mlinexpr.pxi\u001b[0m in \u001b[0;36mgurobipy.MLinExpr.__init__\u001b[0;34m()\u001b[0m\n",
      "\u001b[0;31mGurobiError\u001b[0m: Incompatible vector length"
     ]
    }
   ],
   "source": [
    "for eps in [0, 0.1, 0.5, 1, epsilon]:\n",
    "    print(\"EPS: \", eps)\n",
    "    print(\"Exact solution:\")\n",
    "    x_exact = exact_reformulation(X, c, alpha, eps, M, sigma)\n",
    "    print(\"Scenario solution\")\n",
    "    x_scen = scenario_solution(X, c, sigma)\n",
    "    X_test = norm.rvs(loc=1.15, scale=0.2, size=(1000, dim))\n",
    "    f_exact = f_constraint(x_exact, X_test)\n",
    "    print(np.count_nonzero(f_exact > 0))\n",
    "    f_scen = f_constraint(x_scen, X_test)\n",
    "    print(np.count_nonzero(f_scen > 0))"
   ]
  },
  {
   "cell_type": "code",
   "execution_count": null,
   "id": "d8c360e4",
   "metadata": {},
   "outputs": [],
   "source": []
  }
 ],
 "metadata": {
  "kernelspec": {
   "display_name": "mpc_py",
   "language": "python",
   "name": "mpc_py"
  },
  "language_info": {
   "codemirror_mode": {
    "name": "ipython",
    "version": 3
   },
   "file_extension": ".py",
   "mimetype": "text/x-python",
   "name": "python",
   "nbconvert_exporter": "python",
   "pygments_lexer": "ipython3",
   "version": "3.6.9"
  }
 },
 "nbformat": 4,
 "nbformat_minor": 5
}
