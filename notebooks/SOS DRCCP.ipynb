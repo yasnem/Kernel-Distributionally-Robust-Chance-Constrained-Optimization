{
 "cells": [
  {
   "cell_type": "code",
   "execution_count": 1,
   "id": "b952d9b7",
   "metadata": {},
   "outputs": [],
   "source": [
    "from drccp.cvx_drccp import CVaRRelaxation, RiskConstrainedProgram\n",
    "from drccp.drccp_tools import (rkhs_radius_CV, x_constraints,\n",
    "                               get_linear_objective)\n",
    "from drccp_utils.distributions import GaussianDistribution\n",
    "from drccp_utils.rkhs_utils import rkhs_func, compute_bootstrap_rkhs_radius, cholesky_decomposition\n",
    "from drccp_utils.plot_utils import NEURIPS_RCPARAMS, LINE_WIDTH\n",
    "from drccp_utils.sos_utils import build_sos_basis, get_monoms_list, parse_sym_to_cvx\n",
    "\n",
    "from collections import deque\n",
    "\n",
    "import argparse\n",
    "import numpy as np\n",
    "import cvxpy as cp\n",
    "import sympy as sp\n",
    "import dill as pickle\n",
    "from pathlib import Path\n",
    "np.set_printoptions(suppress=True)"
   ]
  },
  {
   "cell_type": "code",
   "execution_count": 2,
   "id": "5a16333e",
   "metadata": {},
   "outputs": [
    {
     "name": "stdout",
     "output_type": "stream",
     "text": [
      "(10, 3)\n"
     ]
    }
   ],
   "source": [
    "dim = 3\n",
    "risk_level = 0.1\n",
    "\n",
    "mean = np.zeros(dim)\n",
    "cov = np.zeros((dim, dim))\n",
    "np.fill_diagonal(cov, np.arange(0.5, 0.5*(dim + 1), 0.5))\n",
    "dist = GaussianDistribution(dim, mean=mean, std=cov)\n",
    "alpha = risk_level\n",
    "eps_lst = [0, 'bootstrap', 'rate']\n",
    "n_samples = 10\n",
    "supp_points = 0\n",
    "test_xi = dist.sample(10000)\n",
    "\n",
    "objective = get_linear_objective(dim)\n",
    "np.random.seed(10)\n",
    "X = dist.sample(n_samples)\n",
    "print(X.shape)"
   ]
  },
  {
   "cell_type": "code",
   "execution_count": 3,
   "id": "e3fe5342",
   "metadata": {},
   "outputs": [],
   "source": [
    "xi_sym = sp.symbols('xi1:%d'%(dim+1))\n",
    "xi_arr = np.array([xi for xi in xi_sym])\n",
    "x_sym = sp.symbols('x1:%d'%(dim+1))\n",
    "x_arr = np.array([x for x in x_sym])\n",
    "x_var = cp.Variable(dim, name='x', pos=True)\n",
    "var_dict = {x_arr[i]: x_var[i] for i in range(dim)}"
   ]
  },
  {
   "cell_type": "code",
   "execution_count": 4,
   "id": "a7f55faa",
   "metadata": {},
   "outputs": [
    {
     "name": "stdout",
     "output_type": "stream",
     "text": [
      "Poly(-x1*xi1**4 + 3*x1*xi1**3 + 5*x1*xi1**2 - x2*xi2**4 + 3*x2*xi2**3 + 5*x2*xi2**2 - x3*xi3**4 + 3*x3*xi3**3 + 5*x3*xi3**2 - 1, x1, x2, x3, xi1, xi2, xi3, domain='ZZ')\n",
      "(x1, x2, x3, xi1, xi2, xi3) [(1, 0, 0, 4, 0, 0), (1, 0, 0, 3, 0, 0), (1, 0, 0, 2, 0, 0), (0, 1, 0, 0, 4, 0), (0, 1, 0, 0, 3, 0), (0, 1, 0, 0, 2, 0), (0, 0, 1, 0, 0, 4), (0, 0, 1, 0, 0, 3), (0, 0, 1, 0, 0, 2), (0, 0, 0, 0, 0, 0)]\n",
      "[x1*xi1**4, x1*xi1**3, x1*xi1**2, x2*xi2**4, x2*xi2**3, x2*xi2**2, x3*xi3**4, x3*xi3**3, x3*xi3**2, 1]\n"
     ]
    }
   ],
   "source": [
    "f_const = (-xi_arr**4 + 3*xi_arr**3 + 5*xi_arr**2) @ x_arr - 1\n",
    "f_eval = sp.lambdify((x_sym, xi_sym), f_const)\n",
    "d = 4\n",
    "f = f_const.as_poly()\n",
    "f_monoms = get_monoms_list(f)\n",
    "print(f)\n",
    "print(f.gens, f.monoms())\n",
    "print(f_monoms)"
   ]
  },
  {
   "cell_type": "code",
   "execution_count": 5,
   "id": "3a014540",
   "metadata": {},
   "outputs": [
    {
     "data": {
      "text/latex": [
       "$\\displaystyle x_{1} \\left(- \\xi_{1}^{4} + 3 \\xi_{1}^{3} + 5 \\xi_{1}^{2}\\right) + x_{2} \\left(- \\xi_{2}^{4} + 3 \\xi_{2}^{3} + 5 \\xi_{2}^{2}\\right) + x_{3} \\left(- \\xi_{3}^{4} + 3 \\xi_{3}^{3} + 5 \\xi_{3}^{2}\\right) - 1$"
      ],
      "text/plain": [
       "x1*(-xi1**4 + 3*xi1**3 + 5*xi1**2) + x2*(-xi2**4 + 3*xi2**3 + 5*xi2**2) + x3*(-xi3**4 + 3*xi3**3 + 5*xi3**2) - 1"
      ]
     },
     "execution_count": 5,
     "metadata": {},
     "output_type": "execute_result"
    }
   ],
   "source": [
    "f_const"
   ]
  },
  {
   "cell_type": "code",
   "execution_count": 6,
   "id": "6c43aa8a",
   "metadata": {},
   "outputs": [],
   "source": [
    "X @ xi_arr\n",
    "k_func = lambda xi1, xi2: (1 + (xi1 @ xi2)**int(d))\n",
    "K = k_func(X, xi_arr)\n",
    "gamma_cvx = cp.Variable(shape=(n_samples, 1), name='gamma')\n",
    "gamma_sym = sp.MatrixSymbol('gamma', n_samples, 1)\n",
    "var_dict[gamma_sym] = gamma_cvx\n",
    "g = (K @ gamma_sym)[0]\n",
    "g0_cvx = cp.Variable(name='g0')\n",
    "g0_sym = sp.Symbol('g0')\n",
    "var_dict[g0_sym] = g0_cvx\n",
    "t_cvx = cp.Variable(name='t')\n",
    "t_sym = sp.Symbol('t')\n",
    "var_dict[t_sym] = t_cvx"
   ]
  },
  {
   "cell_type": "code",
   "execution_count": 7,
   "id": "afa2d0b5",
   "metadata": {},
   "outputs": [],
   "source": [
    "sp_to_cp = {\n",
    "    sp.exp: cp.exp,\n",
    "    sp.log: cp.log\n",
    "}"
   ]
  },
  {
   "cell_type": "code",
   "execution_count": 8,
   "id": "eba360c7",
   "metadata": {},
   "outputs": [],
   "source": [
    "lhs1 = g0_sym + g - t_sym - f_const\n",
    "lhs2 = g0_sym + g"
   ]
  },
  {
   "cell_type": "code",
   "execution_count": 9,
   "id": "cd6c7758",
   "metadata": {},
   "outputs": [],
   "source": [
    "def parse(expr):\n",
    "    \"\"\"\n",
    "    Parse a polynomial expression in its appropriate base.\n",
    "    \"\"\"\n",
    "    # We reached a leave in the expression Tree\n",
    "    # expr.is_symbol is necessary for MatrixSymbol Elements\n",
    "    if expr.is_Atom or expr.is_symbol:\n",
    "        if expr.func.is_Symbol:  # This is a scalar symbol\n",
    "            return var_dict[expr]\n",
    "        elif expr.func.is_symbol:  # This is a Matrix symbol\n",
    "            return var_dict[expr.symbol][expr.indices]\n",
    "        elif expr.func.is_number:\n",
    "            return float(expr)\n",
    "        else:\n",
    "            raise ValueError\n",
    "    else:\n",
    "        expressions = []\n",
    "        for arg in expr.args:\n",
    "            expressions.append(parse(arg))\n",
    "        if expr.func.is_Add:\n",
    "            cvx_expr = sum(expressions)\n",
    "        elif expr.func.is_Mul:\n",
    "            cvx_expr = np.prod(expressions)\n",
    "        elif expr.func.is_Pow:\n",
    "            assert len(expressions) == 2, 'There should only be 2 elements!'\n",
    "            cvx_expr = expressions[0]**expressions[1]\n",
    "        elif expr.func in sp_to_cp:\n",
    "            assert len(expressions) == 1, \"There should only be one expression by now!\"\n",
    "            cvx_expr = sp_to_cp[expr.func](expression[0])\n",
    "        else:\n",
    "            raise ValueError('The following expression {0} of type {1} is not supported.'.format(expr, expr.func))\n",
    "        return cvx_expr\n",
    "    \n",
    "def parse_sym_to_cvx(polynomial, var_dict, basis):\n",
    "    \"\"\"\n",
    "    Parse a sympy polynomial to a cvx expresion.\n",
    "\n",
    "    Parameters\n",
    "    ----------\n",
    "    polynomial: sympy.Poly\n",
    "    var_dict: dict\n",
    "        Dictionary that contains mapping from cvxpy.Variable to sympy.Symbol\n",
    "    basis: iteratable(sp.Symbol, ...)\n",
    "\n",
    "    Returns\n",
    "    -------\n",
    "    poly_dict: dict\n",
    "        keys -- monomials in sympy form\n",
    "        values -- coefficients in cvxpy form\n",
    "    m: list\n",
    "        List of monomials in polynom\n",
    "    \"\"\"\n",
    "    poly = polynomial.as_poly(basis)\n",
    "#     print(\"polynomial: \", poly)\n",
    "    monoms = get_monoms_list(poly)\n",
    "    poly_dict = {}\n",
    "    for m in monoms:\n",
    "        c = poly.coeff_monomial(m)\n",
    "        poly_dict[m] = parse(c)\n",
    "#         print(\"Coefficient: \", c)\n",
    "#         print(\"Prased CVX: \", poly_dict[m])\n",
    "    return poly_dict, set(monoms)\n"
   ]
  },
  {
   "cell_type": "code",
   "execution_count": 10,
   "id": "bd51a5cd",
   "metadata": {},
   "outputs": [],
   "source": [
    "def create_sos_constraints(lhs_constraint, var_sym, var_arr, var_dict, eps=1e-8):\n",
    "    \"\"\"\n",
    "    Create a list with cvx constraints.\n",
    "    \n",
    "    Parameters\n",
    "    ----------\n",
    "    lhs_constraint: sympy.Poly\n",
    "        The lefthandside constraint we want to get a SOS decomposition of.\n",
    "    var_sym: iteratable(sympy.Symbol, ...)\n",
    "        Iteratable containing all the sympy Variables.\n",
    "    var_arr: np.ndarray\n",
    "        Numpy array with all the variable for matrix mulitplication.\n",
    "    var_dict: dict\n",
    "        Dictionary mapping sympy Variables to cvxpy Variables\n",
    "    \n",
    "    Returns\n",
    "    -------\n",
    "    constraints: list\n",
    "    \"\"\"\n",
    "    lhs_dict, lhs_monoms = parse_sym_to_cvx(lhs_constraint, var_dict, var_sym)\n",
    "    \n",
    "    # construct an appropriate SOS basis\n",
    "    bsos, Q_sym, var_dict = build_sos_basis(lhs_monoms, var_arr, var_dict)\n",
    "#     print(\"SOS basis: \", bsos)\n",
    "#     print(\"Monomials to match: \", lhs_monoms)\n",
    "    Q = sp.Matrix(Q_sym)\n",
    "    n_sos = Q.shape[0]\n",
    "\n",
    "    # SOS decomposition as the RHS of the constraint\n",
    "    rhs = (bsos.transpose() @ Q @ bsos)[0, 0].as_poly(var_sym)\n",
    "    rhs_dict, rhs_monoms = parse_sym_to_cvx(rhs, var_dict, var_sym)\n",
    "\n",
    "    # Create cvxpy constraints\n",
    "    constraints = [var_dict[Q_sym] >> eps * np.eye(n_sos)]\n",
    "    for m in lhs_monoms:\n",
    "        if m not in rhs_dict:\n",
    "            continue\n",
    "#         print('LHS constraint: ', lhs_dict[m])\n",
    "#         print('RHS constraint: ', rhs_dict[m])\n",
    "        constraints.append(lhs_dict[m] == rhs_dict[m])\n",
    "    return constraints, Q_sym\n"
   ]
  },
  {
   "cell_type": "code",
   "execution_count": 11,
   "id": "e112df89",
   "metadata": {},
   "outputs": [],
   "source": [
    "def x_constraints(x, dim=None):\n",
    "    return [\n",
    "        x >= 0,\n",
    "        cp.sum(x) <= 1\n",
    "    ]"
   ]
  },
  {
   "cell_type": "code",
   "execution_count": 12,
   "id": "b7f77560",
   "metadata": {},
   "outputs": [
    {
     "data": {
      "text/latex": [
       "$\\displaystyle g_{0} - t - x_{1} \\left(- \\xi_{1}^{4} + 3 \\xi_{1}^{3} + 5 \\xi_{1}^{2}\\right) - x_{2} \\left(- \\xi_{2}^{4} + 3 \\xi_{2}^{3} + 5 \\xi_{2}^{2}\\right) - x_{3} \\left(- \\xi_{3}^{4} + 3 \\xi_{3}^{3} + 5 \\xi_{3}^{2}\\right) + \\left(0.149041082381412 \\left(- 0.819488013595362 \\xi_{1} + \\xi_{2} - 0.016525805094112 \\xi_{3}\\right)^{4} + 1\\right) \\gamma_{1, 0} + \\left(10.928149439765 \\left(- 0.769156951836942 \\xi_{1} - 0.593893581784757 \\xi_{2} + \\xi_{3}\\right)^{4} + 1\\right) \\gamma_{6, 0} + \\left(7.07391859138153 \\left(- 0.670055810785976 \\xi_{1} + 0.438591736394606 \\xi_{2} + \\xi_{3}\\right)^{4} + 1\\right) \\gamma_{0, 0} + \\left(0.0111819211070073 \\left(0.00933164102242155 \\xi_{1} + 0.333806526295204 \\xi_{2} + \\xi_{3}\\right)^{4} + 1\\right) \\gamma_{2, 0} + \\left(7.82692983522969 \\left(0.0419156712786802 \\xi_{1} + \\xi_{2} + 0.822800922223252 \\xi_{3}\\right)^{4} + 1\\right) \\gamma_{8, 0} + \\left(1.66891411357138 \\left(0.0840718081882607 \\xi_{1} - \\xi_{2} + 0.47965770495835 \\xi_{3}\\right)^{4} + 1\\right) \\gamma_{5, 0} + \\left(1.95168617834919 \\left(0.136777911809514 \\xi_{1} + 0.869974235514892 \\xi_{2} - \\xi_{3}\\right)^{4} + 1\\right) \\gamma_{4, 0} + \\left(8.59422465118613 \\left(0.25324357558991 \\xi_{1} - 0.158421765883275 \\xi_{2} + \\xi_{3}\\right)^{4} + 1\\right) \\gamma_{9, 0} + \\left(20.7846674011667 \\left(0.789826437894916 \\xi_{1} + 0.124612155248982 \\xi_{2} - \\xi_{3}\\right)^{4} + 1\\right) \\gamma_{7, 0} + \\left(0.523668542976538 \\left(\\xi_{1} + 0.509037810483448 \\xi_{2} - 0.251377423795984 \\xi_{3}\\right)^{4} + 1\\right) \\gamma_{3, 0} + 1$"
      ],
      "text/plain": [
       "g0 - t - x1*(-xi1**4 + 3*xi1**3 + 5*xi1**2) - x2*(-xi2**4 + 3*xi2**3 + 5*xi2**2) - x3*(-xi3**4 + 3*xi3**3 + 5*xi3**2) + (0.149041082381412*(-0.819488013595362*xi1 + xi2 - 0.016525805094112*xi3)**4 + 1)*gamma[1, 0] + (10.928149439765*(-0.769156951836942*xi1 - 0.593893581784757*xi2 + xi3)**4 + 1)*gamma[6, 0] + (7.07391859138153*(-0.670055810785976*xi1 + 0.438591736394606*xi2 + xi3)**4 + 1)*gamma[0, 0] + (0.0111819211070073*(0.00933164102242155*xi1 + 0.333806526295204*xi2 + xi3)**4 + 1)*gamma[2, 0] + (7.82692983522969*(0.0419156712786802*xi1 + xi2 + 0.822800922223252*xi3)**4 + 1)*gamma[8, 0] + (1.66891411357138*(0.0840718081882607*xi1 - xi2 + 0.47965770495835*xi3)**4 + 1)*gamma[5, 0] + (1.95168617834919*(0.136777911809514*xi1 + 0.869974235514892*xi2 - xi3)**4 + 1)*gamma[4, 0] + (8.59422465118613*(0.25324357558991*xi1 - 0.158421765883275*xi2 + xi3)**4 + 1)*gamma[9, 0] + (20.7846674011667*(0.789826437894916*xi1 + 0.124612155248982*xi2 - xi3)**4 + 1)*gamma[7, 0] + (0.523668542976538*(xi1 + 0.509037810483448*xi2 - 0.251377423795984*xi3)**4 + 1)*gamma[3, 0] + 1"
      ]
     },
     "execution_count": 12,
     "metadata": {},
     "output_type": "execute_result"
    }
   ],
   "source": [
    "lhs1"
   ]
  },
  {
   "cell_type": "code",
   "execution_count": 13,
   "id": "dc6e8f32",
   "metadata": {},
   "outputs": [
    {
     "data": {
      "text/latex": [
       "$\\displaystyle g_{0} + \\left(0.149041082381412 \\left(- 0.819488013595362 \\xi_{1} + \\xi_{2} - 0.016525805094112 \\xi_{3}\\right)^{4} + 1\\right) \\gamma_{1, 0} + \\left(10.928149439765 \\left(- 0.769156951836942 \\xi_{1} - 0.593893581784757 \\xi_{2} + \\xi_{3}\\right)^{4} + 1\\right) \\gamma_{6, 0} + \\left(7.07391859138153 \\left(- 0.670055810785976 \\xi_{1} + 0.438591736394606 \\xi_{2} + \\xi_{3}\\right)^{4} + 1\\right) \\gamma_{0, 0} + \\left(0.0111819211070073 \\left(0.00933164102242155 \\xi_{1} + 0.333806526295204 \\xi_{2} + \\xi_{3}\\right)^{4} + 1\\right) \\gamma_{2, 0} + \\left(7.82692983522969 \\left(0.0419156712786802 \\xi_{1} + \\xi_{2} + 0.822800922223252 \\xi_{3}\\right)^{4} + 1\\right) \\gamma_{8, 0} + \\left(1.66891411357138 \\left(0.0840718081882607 \\xi_{1} - \\xi_{2} + 0.47965770495835 \\xi_{3}\\right)^{4} + 1\\right) \\gamma_{5, 0} + \\left(1.95168617834919 \\left(0.136777911809514 \\xi_{1} + 0.869974235514892 \\xi_{2} - \\xi_{3}\\right)^{4} + 1\\right) \\gamma_{4, 0} + \\left(8.59422465118613 \\left(0.25324357558991 \\xi_{1} - 0.158421765883275 \\xi_{2} + \\xi_{3}\\right)^{4} + 1\\right) \\gamma_{9, 0} + \\left(20.7846674011667 \\left(0.789826437894916 \\xi_{1} + 0.124612155248982 \\xi_{2} - \\xi_{3}\\right)^{4} + 1\\right) \\gamma_{7, 0} + \\left(0.523668542976538 \\left(\\xi_{1} + 0.509037810483448 \\xi_{2} - 0.251377423795984 \\xi_{3}\\right)^{4} + 1\\right) \\gamma_{3, 0}$"
      ],
      "text/plain": [
       "g0 + (0.149041082381412*(-0.819488013595362*xi1 + xi2 - 0.016525805094112*xi3)**4 + 1)*gamma[1, 0] + (10.928149439765*(-0.769156951836942*xi1 - 0.593893581784757*xi2 + xi3)**4 + 1)*gamma[6, 0] + (7.07391859138153*(-0.670055810785976*xi1 + 0.438591736394606*xi2 + xi3)**4 + 1)*gamma[0, 0] + (0.0111819211070073*(0.00933164102242155*xi1 + 0.333806526295204*xi2 + xi3)**4 + 1)*gamma[2, 0] + (7.82692983522969*(0.0419156712786802*xi1 + xi2 + 0.822800922223252*xi3)**4 + 1)*gamma[8, 0] + (1.66891411357138*(0.0840718081882607*xi1 - xi2 + 0.47965770495835*xi3)**4 + 1)*gamma[5, 0] + (1.95168617834919*(0.136777911809514*xi1 + 0.869974235514892*xi2 - xi3)**4 + 1)*gamma[4, 0] + (8.59422465118613*(0.25324357558991*xi1 - 0.158421765883275*xi2 + xi3)**4 + 1)*gamma[9, 0] + (20.7846674011667*(0.789826437894916*xi1 + 0.124612155248982*xi2 - xi3)**4 + 1)*gamma[7, 0] + (0.523668542976538*(xi1 + 0.509037810483448*xi2 - 0.251377423795984*xi3)**4 + 1)*gamma[3, 0]"
      ]
     },
     "execution_count": 13,
     "metadata": {},
     "output_type": "execute_result"
    }
   ],
   "source": [
    "lhs2"
   ]
  },
  {
   "cell_type": "code",
   "execution_count": 14,
   "id": "2b68907d",
   "metadata": {},
   "outputs": [],
   "source": [
    "constraints = x_constraints(x_var)"
   ]
  },
  {
   "cell_type": "code",
   "execution_count": 15,
   "id": "945e3017",
   "metadata": {
    "scrolled": false
   },
   "outputs": [],
   "source": [
    "const1, Q1 = create_sos_constraints(lhs1, xi_sym, xi_arr, var_dict)\n",
    "constraints.extend(const1)"
   ]
  },
  {
   "cell_type": "code",
   "execution_count": 16,
   "id": "13921651",
   "metadata": {
    "scrolled": true
   },
   "outputs": [],
   "source": [
    "const2, Q2 = create_sos_constraints(lhs2, xi_sym, xi_arr, var_dict)\n",
    "constraints.extend(const2)"
   ]
  },
  {
   "cell_type": "code",
   "execution_count": 17,
   "id": "18fc3be2",
   "metadata": {},
   "outputs": [],
   "source": [
    "kernel_matrix = k_func(X, X.T)\n",
    "kernel_cholesky = cholesky_decomposition(kernel_matrix)\n",
    "g_rkhs = kernel_matrix @ gamma_cvx\n",
    "g_norm = cp.norm(kernel_cholesky @ gamma_cvx)\n",
    "Eg_rkhs = cp.sum(g_rkhs) / n_samples\n",
    "\n",
    "constraints.append(g0_cvx + Eg_rkhs + 0.1 * g_norm <= t_cvx*risk_level)"
   ]
  },
  {
   "cell_type": "code",
   "execution_count": 18,
   "id": "3652d204",
   "metadata": {},
   "outputs": [
    {
     "data": {
      "text/plain": [
       "0.15280606124558932"
      ]
     },
     "execution_count": 18,
     "metadata": {},
     "output_type": "execute_result"
    }
   ],
   "source": [
    "prob = cp.Problem(objective=cp.Maximize(objective(x_var)),\n",
    "                 constraints=constraints)\n",
    "prob.solve(solver=\"MOSEK\")\n"
   ]
  },
  {
   "cell_type": "code",
   "execution_count": 19,
   "id": "90039f5c",
   "metadata": {},
   "outputs": [],
   "source": [
    "x_sol = x_var.value\n",
    "g0 = g0_cvx.value\n",
    "g_rkhs = g_rkhs.value\n",
    "f_val = np.vstack([f_eval(x_sol, X[i, :]) for i in range(X.shape[0])])\n",
    "t = t_cvx.value\n",
    "q1 = var_dict[Q1].value\n",
    "q2 = var_dict[Q2].value"
   ]
  },
  {
   "cell_type": "code",
   "execution_count": 20,
   "id": "eea8f5c3",
   "metadata": {},
   "outputs": [
    {
     "name": "stdout",
     "output_type": "stream",
     "text": [
      "[[0.00264337]\n",
      " [0.00070581]\n",
      " [0.00003257]\n",
      " [0.00113764]\n",
      " [0.00697782]\n",
      " [0.00481416]\n",
      " [0.00105179]\n",
      " [0.00196165]\n",
      " [0.00077545]\n",
      " [0.04288382]]\n",
      "[[-0.488346  ]\n",
      " [ 0.92371488]\n",
      " [ 0.88505994]\n",
      " [ 0.90178238]\n",
      " [ 0.9151826 ]\n",
      " [ 0.79624816]\n",
      " [-0.79910531]\n",
      " [ 2.8741997 ]\n",
      " [-0.11907721]\n",
      " [-0.58110816]]\n",
      "[0.00719968 0.00418946 0.00108948 0.00000001 0.00000001 0.00000001\n",
      " 1.35776808 1.35776808 1.35776808 0.00000001]\n",
      "[0.00719968 0.00418946 0.00108948 0.00000001 0.00000001 0.00000001\n",
      " 1.35776808 1.35776808 1.35776808 0.00000001]\n"
     ]
    }
   ],
   "source": [
    "print(g0 + g_rkhs)\n",
    "print(g0 + g_rkhs - t - f_val)\n",
    "print(np.linalg.eigvals(q1))\n",
    "print(np.linalg.eigvals(q2))"
   ]
  },
  {
   "cell_type": "code",
   "execution_count": null,
   "id": "7eaef080",
   "metadata": {},
   "outputs": [],
   "source": []
  }
 ],
 "metadata": {
  "kernelspec": {
   "display_name": "mpc_py",
   "language": "python",
   "name": "mpc_py"
  },
  "language_info": {
   "codemirror_mode": {
    "name": "ipython",
    "version": 3
   },
   "file_extension": ".py",
   "mimetype": "text/x-python",
   "name": "python",
   "nbconvert_exporter": "python",
   "pygments_lexer": "ipython3",
   "version": "3.9.15"
  }
 },
 "nbformat": 4,
 "nbformat_minor": 5
}
