{
 "cells": [
  {
   "cell_type": "code",
   "execution_count": 1,
   "id": "c1027c1d",
   "metadata": {},
   "outputs": [],
   "source": [
    "import numpy as np\n",
    "from sklearn.metrics.pairwise import pairwise_kernels, check_pairwise_arrays\n",
    "from sklearn.metrics.pairwise import rbf_kernel as sklearn_kernel\n",
    "from scipy.stats import norm, uniform\n",
    "from gekko import GEKKO\n",
    "from rkhs_utils.utils import rkhs_norm_squared, rkhs_func_exp, rkhs_func\n",
    "np.set_printoptions(suppress=True)"
   ]
  },
  {
   "cell_type": "code",
   "execution_count": 2,
   "id": "a40a26ee",
   "metadata": {},
   "outputs": [],
   "source": [
    "# Define constraint function\n",
    "\n",
    "def f_constraint(x, X):\n",
    "    \"\"\"\n",
    "    Constraint function\n",
    "    \n",
    "    x: cp.Variable -- decision variable (dim,)\n",
    "    X: ndarray -- Samples (n_samples, dim)\n",
    "    \"\"\"\n",
    "#     f = cp.exp(0.1 * (x[0, :] + X[:,0])) + x[1, :] + X[:, 1] -10\n",
    "    \n",
    "    f = X @ x - 50\n",
    "\n",
    "    return f"
   ]
  },
  {
   "cell_type": "code",
   "execution_count": 3,
   "id": "7312037b",
   "metadata": {},
   "outputs": [],
   "source": [
    "##### Sample/set problem constants\n",
    "# Define constants and sample scenarios\n",
    "np.random.seed(1)\n",
    "dim = 1\n",
    "n_samples = 20\n",
    "c = np.random.randint(1, 50, size=dim)\n",
    "X = uniform.rvs(loc=1, scale=9, size=(n_samples, dim))\n",
    "M = 100000\n",
    "epsilon = 0.5\n",
    "alpha = 0.05\n",
    "sigma = 0.5"
   ]
  },
  {
   "cell_type": "code",
   "execution_count": 4,
   "id": "08b8b90f",
   "metadata": {},
   "outputs": [],
   "source": [
    "model = GEKKO()\n",
    "x = model.Array(model.Var, dim,)\n",
    "w = model.Array(model.Var, n_samples)\n",
    "t = model.Var(value=0, name='t')\n",
    "s = model.Var(value=0, lb=0, name='s')\n",
    "\n",
    "model.Obj(-c @ x)\n",
    "model.Equation(rkhs_func_exp(w, X, sigma=sigma) + epsilon * s <= t * alpha)\n",
    "model.Equation(rkhs_norm_squared(w, X, sigma=sigma) <= s**2)\n",
    "lhs = f_constraint(x, X) + t\n",
    "rhs = rkhs_func(w, X, X, sigma=sigma)\n",
    "tmp = lhs - rhs\n",
    "model.Equations([tmp[i] <= 0 for i in range(tmp.shape[0])])\n",
    "model.Equations([rhs[i] >= 0 for i in range(rhs.shape[0])])\n",
    "\n",
    "model.solve(disp=False)"
   ]
  },
  {
   "cell_type": "code",
   "execution_count": 5,
   "id": "7b9e47ce",
   "metadata": {},
   "outputs": [
    {
     "name": "stdout",
     "output_type": "stream",
     "text": [
      "Results\n",
      "x:  [[5.0043214281]]\n",
      "w:  [[-0.031151966489] [0.0086282393169] [6.96319827e-08] [0.029341421668]\n",
      " [3.2552825801e-06] [-0.00013293230036] [8.3275317868e-05]\n",
      " [-9.0970461943e-06] [-0.063876108557] [-0.00028102460631]\n",
      " [-1.5473821695e-06] [-3.8459832482e-05] [-0.00036334522865]\n",
      " [-2.9242820454e-06] [3.0834854978e-05] [0.005019210829]\n",
      " [0.00015617483421] [0.00026670871739] [0.052354540673] [7.0222945689e-05]]\n",
      "t:  [1.717057481e-06]\n",
      "Objective: 190.16421427\n"
     ]
    }
   ],
   "source": [
    "print('Results')\n",
    "print('x: ', x)\n",
    "print('w: ', w)\n",
    "print('t: ', t.value)\n",
    "print('Objective: ' + str(-model.options.objfcnval))"
   ]
  }
 ],
 "metadata": {
  "kernelspec": {
   "display_name": "mpc_py",
   "language": "python",
   "name": "mpc_py"
  },
  "language_info": {
   "codemirror_mode": {
    "name": "ipython",
    "version": 3
   },
   "file_extension": ".py",
   "mimetype": "text/x-python",
   "name": "python",
   "nbconvert_exporter": "python",
   "pygments_lexer": "ipython3",
   "version": "3.6.9"
  }
 },
 "nbformat": 4,
 "nbformat_minor": 5
}
