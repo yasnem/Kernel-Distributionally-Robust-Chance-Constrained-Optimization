{
 "cells": [
  {
   "cell_type": "code",
   "execution_count": 1,
   "id": "a6d2f317",
   "metadata": {},
   "outputs": [
    {
     "ename": "ModuleNotFoundError",
     "evalue": "No module named 'rkhs_utils'",
     "output_type": "error",
     "traceback": [
      "\u001b[0;31m---------------------------------------------------------------------------\u001b[0m",
      "\u001b[0;31mModuleNotFoundError\u001b[0m                       Traceback (most recent call last)",
      "Input \u001b[0;32mIn [1]\u001b[0m, in \u001b[0;36m<cell line: 6>\u001b[0;34m()\u001b[0m\n\u001b[1;32m      4\u001b[0m \u001b[38;5;28;01mfrom\u001b[39;00m \u001b[38;5;21;01mscipy\u001b[39;00m\u001b[38;5;21;01m.\u001b[39;00m\u001b[38;5;21;01mstats\u001b[39;00m \u001b[38;5;28;01mimport\u001b[39;00m norm, uniform\n\u001b[1;32m      5\u001b[0m \u001b[38;5;28;01mimport\u001b[39;00m \u001b[38;5;21;01mcasadi\u001b[39;00m \u001b[38;5;28;01mas\u001b[39;00m \u001b[38;5;21;01mcas\u001b[39;00m\n\u001b[0;32m----> 6\u001b[0m \u001b[38;5;28;01mfrom\u001b[39;00m \u001b[38;5;21;01mrkhs_utils\u001b[39;00m\u001b[38;5;21;01m.\u001b[39;00m\u001b[38;5;21;01mutils\u001b[39;00m \u001b[38;5;28;01mimport\u001b[39;00m cas_rkhs_norm_squared, cas_rkhs_func_exp, cas_rkhs_func, mmd_eps\n\u001b[1;32m      7\u001b[0m np\u001b[38;5;241m.\u001b[39mset_printoptions(suppress\u001b[38;5;241m=\u001b[39m\u001b[38;5;28;01mTrue\u001b[39;00m)\n",
      "\u001b[0;31mModuleNotFoundError\u001b[0m: No module named 'rkhs_utils'"
     ]
    }
   ],
   "source": [
    "import numpy as np\n",
    "from sklearn.metrics.pairwise import pairwise_kernels, check_pairwise_arrays\n",
    "from sklearn.metrics.pairwise import rbf_kernel as sklearn_kernel\n",
    "from scipy.stats import norm, uniform\n",
    "import casadi as cas\n",
    "from rkhs_utils.utils import cas_rkhs_norm_squared, cas_rkhs_func_exp, cas_rkhs_func, mmd_eps\n",
    "np.set_printoptions(suppress=True)"
   ]
  },
  {
   "cell_type": "code",
   "execution_count": null,
   "id": "3330c798",
   "metadata": {},
   "outputs": [],
   "source": [
    "# Define constraint function\n",
    "\n",
    "def f_constraint(x, X):\n",
    "    \"\"\"\n",
    "    Constraint function\n",
    "    \n",
    "    x: cp.Variable -- decision variable (dim,)\n",
    "    X: ndarray -- Samples (n_samples, dim)\n",
    "    \"\"\"\n",
    "#     f = cp.exp(0.1 * (x[0, :] + X[:,0])) + x[1, :] + X[:, 1] -10\n",
    "    \n",
    "    f = cas.mtimes(X, x).T - 50\n",
    "\n",
    "    return f"
   ]
  },
  {
   "cell_type": "code",
   "execution_count": null,
   "id": "ea8863be",
   "metadata": {},
   "outputs": [],
   "source": [
    "##### Sample/set problem constants\n",
    "# Define constants and sample scenarios\n",
    "np.random.seed(1)\n",
    "dim = 1\n",
    "n_samples = 20\n",
    "c = np.random.randint(1, 50, size=dim)\n",
    "X = uniform.rvs(loc=1, scale=9, size=(n_samples, dim))\n",
    "X = norm.rvs(loc=5, scale=3, size=(n_samples, dim))\n",
    "M = 100000\n",
    "alpha = 0.05\n",
    "epsilon = mmd_eps(n_samples, alpha=alpha)\n",
    "print(epsilon)\n",
    "sigma = 0.5"
   ]
  },
  {
   "cell_type": "code",
   "execution_count": null,
   "id": "47099855",
   "metadata": {},
   "outputs": [],
   "source": [
    "# create model and decision variables\n",
    "opti = cas.Opti()\n",
    "opti.solver('ipopt')\n",
    "x = opti.variable(dim)\n",
    "w = opti.variable(n_samples)\n",
    "t = opti.variable()\n",
    "s = opti.variable()\n",
    "obj = cas.dot(c, x)\n",
    "opti.minimize(-cas.dot(c, x))\n",
    "\n",
    "# Add constraints\n",
    "opti.subject_to(cas_rkhs_func_exp(w, X, sigma=sigma) + epsilon * s <= t * alpha)\n",
    "opti.subject_to(cas_rkhs_norm_squared(w, X, sigma=sigma) <= s**2)\n",
    "opti.subject_to(f_constraint(x, X) + t <= cas_rkhs_func(w, X, X, sigma=sigma))\n",
    "opti.subject_to(0 <= cas_rkhs_func(w, X, X, sigma=sigma))\n",
    "opti.subject_to(s >= 0)\n",
    "sol = opti.solve()"
   ]
  },
  {
   "cell_type": "code",
   "execution_count": null,
   "id": "f5783115",
   "metadata": {},
   "outputs": [],
   "source": [
    "print(\"Objective: \", sol.value(obj))\n",
    "print(\"x: \", sol.value(x))\n",
    "print(\"w: \", sol.value(w))"
   ]
  }
 ],
 "metadata": {
  "kernelspec": {
   "display_name": "mpc_py",
   "language": "python",
   "name": "mpc_py"
  },
  "language_info": {
   "codemirror_mode": {
    "name": "ipython",
    "version": 3
   },
   "file_extension": ".py",
   "mimetype": "text/x-python",
   "name": "python",
   "nbconvert_exporter": "python",
   "pygments_lexer": "ipython3",
   "version": "3.9.15"
  }
 },
 "nbformat": 4,
 "nbformat_minor": 5
}
